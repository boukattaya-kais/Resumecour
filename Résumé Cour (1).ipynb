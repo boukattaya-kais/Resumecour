{
 "cells": [
  {
   "cell_type": "code",
   "execution_count": 23,
   "id": "9b8bad81",
   "metadata": {},
   "outputs": [
    {
     "name": "stdout",
     "output_type": "stream",
     "text": [
      " John 32\n"
     ]
    }
   ],
   "source": [
    "x = 32\n",
    "nom = \" John\"\n",
    "print(nom,x)"
   ]
  },
  {
   "cell_type": "code",
   "execution_count": 24,
   "id": "59dcbe7a",
   "metadata": {},
   "outputs": [
    {
     "name": "stdout",
     "output_type": "stream",
     "text": [
      " John a 32 ans\n"
     ]
    }
   ],
   "source": [
    "x = 32\n",
    "nom = \" John\"\n",
    "print(nom,'a',x,'ans')"
   ]
  },
  {
   "cell_type": "code",
   "execution_count": 25,
   "id": "f81ee3dd",
   "metadata": {},
   "outputs": [
    {
     "name": "stdout",
     "output_type": "stream",
     "text": [
      " John a 32 ans \n"
     ]
    }
   ],
   "source": [
    "x = 32\n",
    "nom = \" John\"\n",
    "print (\"{} a {} ans \". format (nom , x))\n"
   ]
  },
  {
   "cell_type": "code",
   "execution_count": 26,
   "id": "27642955",
   "metadata": {},
   "outputs": [
    {
     "name": "stdout",
     "output_type": "stream",
     "text": [
      " John a 32 ans \n"
     ]
    }
   ],
   "source": [
    "x = 32\n",
    "nom = \" John\"\n",
    "bib= \"{} a {} ans \"\n",
    "print(bib.format(nom , x))"
   ]
  },
  {
   "cell_type": "code",
   "execution_count": 27,
   "id": "dbb8a60c",
   "metadata": {},
   "outputs": [
    {
     "name": "stdout",
     "output_type": "stream",
     "text": [
      "On a 4500 G et 2575 C -> prop= 0.48\n"
     ]
    }
   ],
   "source": [
    "nb1 = 4500\n",
    "nb2 = 2575\n",
    "prop=( nb1 + nb2 )/14800\n",
    "print (\"On a {} G et {} C -> prop= {:.2f}\".format(nb1 , nb2 , prop))\n"
   ]
  },
  {
   "cell_type": "code",
   "execution_count": 28,
   "id": "dd9c9112",
   "metadata": {},
   "outputs": [
    {
     "name": "stdout",
     "output_type": "stream",
     "text": [
      "On a 4500 G et 2575 C -> prop  = 0.48\n"
     ]
    }
   ],
   "source": [
    "print (f\"On a { nb1 } G et { nb2 } C -> prop  = { prop:.2f}\")# .2f =>2 chiffres aprés la virgule"
   ]
  },
  {
   "cell_type": "code",
   "execution_count": 29,
   "id": "917fda5f",
   "metadata": {},
   "outputs": [
    {
     "name": "stdout",
     "output_type": "stream",
     "text": [
      "amine\n",
      "ali\n",
      "salah\n"
     ]
    }
   ],
   "source": [
    "a=[\"amine\",\"ali\",\"salah\"]\n",
    "for ele in a:\n",
    "    print(ele)"
   ]
  },
  {
   "cell_type": "code",
   "execution_count": 30,
   "id": "61a251fd",
   "metadata": {},
   "outputs": [
    {
     "name": "stdout",
     "output_type": "stream",
     "text": [
      "amine\n",
      "ali\n",
      "salah\n"
     ]
    }
   ],
   "source": [
    "for i in range(len(a)):\n",
    "    print(a[i])"
   ]
  },
  {
   "cell_type": "code",
   "execution_count": 31,
   "id": "9fada358",
   "metadata": {},
   "outputs": [
    {
     "name": "stdout",
     "output_type": "stream",
     "text": [
      "0 --> amine\n",
      "1 --> ali\n",
      "2 --> salah\n"
     ]
    }
   ],
   "source": [
    "for i, ele in enumerate(a):\n",
    "    print(i,\"-->\",ele)"
   ]
  },
  {
   "cell_type": "code",
   "execution_count": 32,
   "id": "46942ee3",
   "metadata": {},
   "outputs": [
    {
     "name": "stdout",
     "output_type": "stream",
     "text": [
      "a\n",
      "m\n",
      "i\n",
      "n\n",
      "e\n"
     ]
    }
   ],
   "source": [
    "a=\"amine\"\n",
    "for i in  a:\n",
    "    print(i)\n"
   ]
  },
  {
   "cell_type": "code",
   "execution_count": 33,
   "id": "0e7c5fb6",
   "metadata": {},
   "outputs": [
    {
     "name": "stdout",
     "output_type": "stream",
     "text": [
      "0 --> a\n",
      "1 --> m\n",
      "2 --> i\n",
      "3 --> n\n",
      "4 --> e\n"
     ]
    }
   ],
   "source": [
    "for i, ele in enumerate(a):\n",
    "    print(i,\"-->\",ele)"
   ]
  },
  {
   "cell_type": "markdown",
   "id": "d843201a",
   "metadata": {},
   "source": [
    "1.Exercice Palindrome : chaine vers liste"
   ]
  },
  {
   "cell_type": "code",
   "execution_count": 18,
   "id": "9822ffad",
   "metadata": {},
   "outputs": [
    {
     "name": "stdout",
     "output_type": "stream",
     "text": [
      "donner une chaineradar\n",
      "['r', 'a', 'd', 'a', 'r']\n",
      "['r', 'a', 'd', 'a', 'r']\n",
      "palin\n"
     ]
    }
   ],
   "source": [
    "chaine=input(\"donner une chaine\")\n",
    "tableau=[]\n",
    "for i in chaine :\n",
    "     tableau.append(i)#ajoiuter le caractére  a la liste\n",
    "for j in range(tableau.count(\" \")):# \n",
    "    tableau.remove(\" \") #supprimer les espaces\n",
    "tableau2=tableau.copy()# faire une copie du tableau\n",
    "tableau.reverse()  #inverser le tableau\n",
    "print(tableau)\n",
    "print(tableau2)\n",
    "if(tableau==tableau):\n",
    "    print(\"palin\")\n",
    "else :\n",
    "    print(\"pas palin\")\n"
   ]
  },
  {
   "cell_type": "markdown",
   "id": "612cce99",
   "metadata": {},
   "source": [
    "Palindrome :2.  inverser la chaine"
   ]
  },
  {
   "cell_type": "code",
   "execution_count": 34,
   "id": "ece18c66",
   "metadata": {},
   "outputs": [
    {
     "name": "stdout",
     "output_type": "stream",
     "text": [
      "donner une chaineradar\n",
      "radar\n",
      "radar\n",
      "radar\n",
      "palind\n"
     ]
    }
   ],
   "source": [
    "chaine=input(\"donner une chaine\")\n",
    "chaine=chaine.replace(\" \",\"\")\n",
    "print(chaine)\n",
    "chaine2=chaine[::-1]\n",
    "print(chaine)\n",
    "print(chaine2)\n",
    "if(chaine==chaine2):\n",
    "    print(\"palind\")\n",
    "else :\n",
    "    print(\"non palind\")\n"
   ]
  },
  {
   "cell_type": "markdown",
   "id": "a2ceff03",
   "metadata": {},
   "source": [
    "3. Palindrome "
   ]
  },
  {
   "cell_type": "code",
   "execution_count": 35,
   "id": "b1ec235b",
   "metadata": {},
   "outputs": [
    {
     "name": "stdout",
     "output_type": "stream",
     "text": [
      "donner une chaineazza\n",
      "palind\n"
     ]
    }
   ],
   "source": [
    "chaine=input(\"donner une chaine\")\n",
    "ok=True\n",
    "n =len(chaine)\n",
    "for i in range(n // 2):\n",
    "    if chaine[i] != chaine[-i-1]:\n",
    "        ok=False\n",
    "        break\n",
    "if(ok):\n",
    "    print(\"palind\")\n",
    "else :\n",
    "    print(\"non palind\")\n"
   ]
  },
  {
   "cell_type": "markdown",
   "id": "7994913d",
   "metadata": {},
   "source": [
    "# LES LISTES"
   ]
  },
  {
   "cell_type": "markdown",
   "id": "92efa491",
   "metadata": {},
   "source": [
    "Création   :list()\n",
    "Ajout      :append()|insert()|extend()\n",
    "suppression:remove()|pop()|clear()|del\n",
    "Operations :len()|sum()|max()|min()|count()|reverse()|sort()|sorted()\n",
    "recherche  :index()\n",
    "duplication:copy()"
   ]
  },
  {
   "cell_type": "code",
   "execution_count": 5,
   "id": "ba0a7eb8",
   "metadata": {},
   "outputs": [],
   "source": [
    "#L=list()\n",
    "#L=[]\n",
    "L1=list(range(5,16))"
   ]
  },
  {
   "cell_type": "code",
   "execution_count": 6,
   "id": "1d502ef1",
   "metadata": {},
   "outputs": [
    {
     "data": {
      "text/plain": [
       "[5, 6, 7, 8, 9, 10, 11, 12, 13, 14, 15]"
      ]
     },
     "execution_count": 6,
     "metadata": {},
     "output_type": "execute_result"
    }
   ],
   "source": [
    "L1"
   ]
  },
  {
   "cell_type": "code",
   "execution_count": 7,
   "id": "70cbefbc",
   "metadata": {},
   "outputs": [
    {
     "data": {
      "text/plain": [
       "11"
      ]
     },
     "execution_count": 7,
     "metadata": {},
     "output_type": "execute_result"
    }
   ],
   "source": [
    "len(L1)"
   ]
  },
  {
   "cell_type": "code",
   "execution_count": 8,
   "id": "cb5ca6be",
   "metadata": {},
   "outputs": [],
   "source": [
    "#L=list(\"salut\",\"hello\",\"ali\",\"omar\")\n",
    "L=[\"salut\",\"hello\",\"ali\",\"omar\",'hello']"
   ]
  },
  {
   "cell_type": "code",
   "execution_count": 9,
   "id": "f7f520d3",
   "metadata": {},
   "outputs": [
    {
     "data": {
      "text/plain": [
       "['salut', 'hello', 'ali', 'omar', 'hello']"
      ]
     },
     "execution_count": 9,
     "metadata": {},
     "output_type": "execute_result"
    }
   ],
   "source": [
    "L"
   ]
  },
  {
   "cell_type": "code",
   "execution_count": 10,
   "id": "e612f397",
   "metadata": {},
   "outputs": [],
   "source": [
    "L[2]=\"anis\""
   ]
  },
  {
   "cell_type": "code",
   "execution_count": 11,
   "id": "0f2fc14f",
   "metadata": {},
   "outputs": [
    {
     "data": {
      "text/plain": [
       "['salut', 'hello', 'anis', 'omar', 'hello']"
      ]
     },
     "execution_count": 11,
     "metadata": {},
     "output_type": "execute_result"
    }
   ],
   "source": [
    "L"
   ]
  },
  {
   "cell_type": "code",
   "execution_count": 12,
   "id": "05f7e239",
   "metadata": {},
   "outputs": [
    {
     "data": {
      "text/plain": [
       "2"
      ]
     },
     "execution_count": 12,
     "metadata": {},
     "output_type": "execute_result"
    }
   ],
   "source": [
    "L.count (\"hello\")"
   ]
  },
  {
   "cell_type": "code",
   "execution_count": 13,
   "id": "46a90a15",
   "metadata": {},
   "outputs": [
    {
     "name": "stdout",
     "output_type": "stream",
     "text": [
      "['anis', 'hello', 'hello', 'omar', 'salut']\n"
     ]
    }
   ],
   "source": [
    "L.sort()\n",
    "print(L)"
   ]
  },
  {
   "cell_type": "code",
   "execution_count": 45,
   "id": "6e2da4ba",
   "metadata": {},
   "outputs": [],
   "source": [
    "L5 = [5,\"ABC\",3,\"Z\"]\n"
   ]
  },
  {
   "cell_type": "code",
   "execution_count": 14,
   "id": "b6092950",
   "metadata": {},
   "outputs": [
    {
     "ename": "NameError",
     "evalue": "name 'L5' is not defined",
     "output_type": "error",
     "traceback": [
      "\u001b[1;31m---------------------------------------------------------------------------\u001b[0m",
      "\u001b[1;31mNameError\u001b[0m                                 Traceback (most recent call last)",
      "Input \u001b[1;32mIn [14]\u001b[0m, in \u001b[0;36m<cell line: 1>\u001b[1;34m()\u001b[0m\n\u001b[1;32m----> 1\u001b[0m \u001b[43mL5\u001b[49m\u001b[38;5;241m.\u001b[39msort()\n",
      "\u001b[1;31mNameError\u001b[0m: name 'L5' is not defined"
     ]
    }
   ],
   "source": [
    "L5.sort()"
   ]
  },
  {
   "cell_type": "code",
   "execution_count": 15,
   "id": "95922727",
   "metadata": {},
   "outputs": [
    {
     "name": "stdout",
     "output_type": "stream",
     "text": [
      "[0, 3, 4, 5]\n"
     ]
    }
   ],
   "source": [
    "L6 = [5,4,3,0]\n",
    "L6.sort()\n",
    "print(L6)"
   ]
  },
  {
   "cell_type": "code",
   "execution_count": 16,
   "id": "59628ff4",
   "metadata": {},
   "outputs": [
    {
     "name": "stdout",
     "output_type": "stream",
     "text": [
      "[5, 4, 3, 0]\n"
     ]
    }
   ],
   "source": [
    "L7 = [5,4,3,0]\n",
    "L7.sort(reverse=True)\n",
    "print(L7)"
   ]
  },
  {
   "cell_type": "code",
   "execution_count": 17,
   "id": "811082f6",
   "metadata": {},
   "outputs": [
    {
     "name": "stdout",
     "output_type": "stream",
     "text": [
      "['salut', 'omar', 'hello', 'hello', 'anis']\n"
     ]
    }
   ],
   "source": [
    " L.sort( reverse = True )\n",
    "print(L)"
   ]
  },
  {
   "cell_type": "code",
   "execution_count": 18,
   "id": "8d04cda6",
   "metadata": {},
   "outputs": [
    {
     "name": "stdout",
     "output_type": "stream",
     "text": [
      "['salut', 'omar', 'hello', 'hello', 'anis', 'jean']\n"
     ]
    }
   ],
   "source": [
    "L.append(\"jean\")\n",
    "print(L)"
   ]
  },
  {
   "cell_type": "code",
   "execution_count": 19,
   "id": "29651bd4",
   "metadata": {},
   "outputs": [
    {
     "name": "stdout",
     "output_type": "stream",
     "text": [
      "['salut', 'omar', 'sami', 'hello', 'hello', 'anis', 'jean']\n"
     ]
    }
   ],
   "source": [
    "L.insert (2,\"sami\")\n",
    "print(L)"
   ]
  },
  {
   "cell_type": "code",
   "execution_count": 20,
   "id": "4d83c202",
   "metadata": {},
   "outputs": [
    {
     "name": "stdout",
     "output_type": "stream",
     "text": [
      "['salut', 'omar', 'sami', 'hello', 'hello', 'anis', 'jean', 'w', 'o', 'r', 'l', 'd']\n"
     ]
    }
   ],
   "source": [
    "L.extend(\"world\")# elemnt ajouter doit etre un sequence\n",
    "print(L)"
   ]
  },
  {
   "cell_type": "code",
   "execution_count": 21,
   "id": "b6f9664f",
   "metadata": {},
   "outputs": [],
   "source": [
    "lista=L.copy()"
   ]
  },
  {
   "cell_type": "code",
   "execution_count": 22,
   "id": "9aa38138",
   "metadata": {},
   "outputs": [
    {
     "name": "stdout",
     "output_type": "stream",
     "text": [
      "['salut', 'omar', 'sami', 'hello', 'hello', 'anis', 'jean', 'w', 'o', 'r', 'l', 'd', 1, 3]\n"
     ]
    }
   ],
   "source": [
    "lista.extend([1,3])\n",
    "print(lista)"
   ]
  },
  {
   "cell_type": "code",
   "execution_count": 23,
   "id": "15c95543",
   "metadata": {},
   "outputs": [
    {
     "name": "stdout",
     "output_type": "stream",
     "text": [
      "['salut', 'omar', 'sami', 'hello', 'hello', 'anis', 'w', 'o', 'r', 'l', 'd']\n"
     ]
    }
   ],
   "source": [
    "L.remove(\"jean\")\n",
    "print(L)"
   ]
  },
  {
   "cell_type": "code",
   "execution_count": 24,
   "id": "f0801635",
   "metadata": {},
   "outputs": [
    {
     "name": "stdout",
     "output_type": "stream",
     "text": [
      "['salut', 'sami', 'hello', 'hello', 'anis', 'w', 'o', 'r', 'l', 'd']\n"
     ]
    }
   ],
   "source": [
    "del (L[1])\n",
    "print(L)"
   ]
  },
  {
   "cell_type": "code",
   "execution_count": 25,
   "id": "1eb3efa2",
   "metadata": {},
   "outputs": [],
   "source": [
    "del(L[2:5])"
   ]
  },
  {
   "cell_type": "code",
   "execution_count": 26,
   "id": "28e84ced",
   "metadata": {},
   "outputs": [
    {
     "data": {
      "text/plain": [
       "['salut', 'sami', 'w', 'o', 'r', 'l', 'd']"
      ]
     },
     "execution_count": 26,
     "metadata": {},
     "output_type": "execute_result"
    }
   ],
   "source": [
    "L"
   ]
  },
  {
   "cell_type": "code",
   "execution_count": 27,
   "id": "fcdc69d2",
   "metadata": {},
   "outputs": [
    {
     "name": "stdout",
     "output_type": "stream",
     "text": [
      "['salut', 'sami', 'w', 'o', 'r', 'l', 'd']\n"
     ]
    }
   ],
   "source": [
    "L2=L.copy()\n",
    "print(L2)"
   ]
  },
  {
   "cell_type": "code",
   "execution_count": 28,
   "id": "c4eca7f1",
   "metadata": {},
   "outputs": [
    {
     "name": "stdout",
     "output_type": "stream",
     "text": [
      "['d', 'l', 'r', 'o', 'w', 'sami', 'salut']\n"
     ]
    }
   ],
   "source": [
    "L2.reverse()\n",
    "print(L2)"
   ]
  },
  {
   "cell_type": "code",
   "execution_count": 29,
   "id": "428c4277",
   "metadata": {},
   "outputs": [
    {
     "name": "stdout",
     "output_type": "stream",
     "text": [
      "w\n"
     ]
    }
   ],
   "source": [
    "print(max(L2))"
   ]
  },
  {
   "cell_type": "code",
   "execution_count": 30,
   "id": "e45894ad",
   "metadata": {},
   "outputs": [
    {
     "name": "stdout",
     "output_type": "stream",
     "text": [
      "d\n"
     ]
    }
   ],
   "source": [
    "print(min(L2))"
   ]
  },
  {
   "cell_type": "code",
   "execution_count": 31,
   "id": "9f73878e",
   "metadata": {},
   "outputs": [],
   "source": [
    "L3=[\"salut\",\"hello\",\"ali\",\"omar\",'hello']"
   ]
  },
  {
   "cell_type": "code",
   "execution_count": 32,
   "id": "3c78243e",
   "metadata": {},
   "outputs": [
    {
     "name": "stdout",
     "output_type": "stream",
     "text": [
      "['salut', 'hello', 'ali', 'omar']\n"
     ]
    }
   ],
   "source": [
    "L3.pop()#=>supprime le dernier element\n",
    "print(L3)"
   ]
  },
  {
   "cell_type": "code",
   "execution_count": 33,
   "id": "b5072faa",
   "metadata": {},
   "outputs": [
    {
     "name": "stdout",
     "output_type": "stream",
     "text": [
      "['salut', 'hello', 'omar']\n",
      "ali\n"
     ]
    }
   ],
   "source": [
    "v=L3.pop(2)# supprime et affiche ali \n",
    "print(L3)\n",
    "print(v)"
   ]
  },
  {
   "cell_type": "code",
   "execution_count": 34,
   "id": "f71ca509",
   "metadata": {},
   "outputs": [
    {
     "data": {
      "text/plain": [
       "True"
      ]
     },
     "execution_count": 34,
     "metadata": {},
     "output_type": "execute_result"
    }
   ],
   "source": [
    "\"salut\" in L3"
   ]
  },
  {
   "cell_type": "code",
   "execution_count": 35,
   "id": "95cb7215",
   "metadata": {},
   "outputs": [
    {
     "data": {
      "text/plain": [
       "1"
      ]
     },
     "execution_count": 35,
     "metadata": {},
     "output_type": "execute_result"
    }
   ],
   "source": [
    "L3.index(\"hello\")# l'indice de hello dans la liste"
   ]
  },
  {
   "cell_type": "code",
   "execution_count": 37,
   "id": "98f8c3c0",
   "metadata": {},
   "outputs": [],
   "source": [
    "list=[1,\"ab\",[1,True]] # liste imbriquee"
   ]
  },
  {
   "cell_type": "code",
   "execution_count": 38,
   "id": "6d3a2c3a",
   "metadata": {},
   "outputs": [
    {
     "data": {
      "text/plain": [
       "[1, True]"
      ]
     },
     "execution_count": 38,
     "metadata": {},
     "output_type": "execute_result"
    }
   ],
   "source": [
    " list[2]"
   ]
  },
  {
   "cell_type": "code",
   "execution_count": 39,
   "id": "826aa536",
   "metadata": {},
   "outputs": [
    {
     "name": "stdout",
     "output_type": "stream",
     "text": [
      "1\n",
      "2\n",
      "3\n"
     ]
    }
   ],
   "source": [
    "list = [input(),input(),input()]"
   ]
  },
  {
   "cell_type": "code",
   "execution_count": 40,
   "id": "84ca2cca",
   "metadata": {},
   "outputs": [
    {
     "data": {
      "text/plain": [
       "['1', '2', '3']"
      ]
     },
     "execution_count": 40,
     "metadata": {},
     "output_type": "execute_result"
    }
   ],
   "source": [
    "list"
   ]
  },
  {
   "cell_type": "code",
   "execution_count": 41,
   "id": "85c97579",
   "metadata": {},
   "outputs": [
    {
     "name": "stdout",
     "output_type": "stream",
     "text": [
      "entrer des valeurs speraees par virgule1,2,3\n"
     ]
    }
   ],
   "source": [
    "list=[x for x in input(\"entrer des valeurs speraees par virgule\").split(\",\")] # Taper <Enter>"
   ]
  },
  {
   "cell_type": "code",
   "execution_count": 42,
   "id": "e32cafef",
   "metadata": {},
   "outputs": [
    {
     "data": {
      "text/plain": [
       "['1', '2', '3']"
      ]
     },
     "execution_count": 42,
     "metadata": {},
     "output_type": "execute_result"
    }
   ],
   "source": [
    "list"
   ]
  },
  {
   "cell_type": "code",
   "execution_count": 43,
   "id": "ddfa8801",
   "metadata": {},
   "outputs": [
    {
     "name": "stdout",
     "output_type": "stream",
     "text": [
      "entrer des valeurs speraees par virgule1,2,3\n"
     ]
    }
   ],
   "source": [
    "list=[int(x) for x in input(\"entrer des valeurs speraees par virgule\").split(\",\")] # Taper <Enter>"
   ]
  },
  {
   "cell_type": "code",
   "execution_count": 44,
   "id": "6522978d",
   "metadata": {},
   "outputs": [
    {
     "data": {
      "text/plain": [
       "[1, 2, 3]"
      ]
     },
     "execution_count": 44,
     "metadata": {},
     "output_type": "execute_result"
    }
   ],
   "source": [
    "list"
   ]
  },
  {
   "cell_type": "markdown",
   "id": "94b79899",
   "metadata": {},
   "source": [
    "Tuples: (itérables, ordonnés indexables, non modifiable( immutable))¶"
   ]
  },
  {
   "cell_type": "code",
   "execution_count": 73,
   "id": "b0a64baf",
   "metadata": {},
   "outputs": [],
   "source": [
    "t = (1, 2, 3)"
   ]
  },
  {
   "cell_type": "code",
   "execution_count": 74,
   "id": "333ca823",
   "metadata": {},
   "outputs": [
    {
     "data": {
      "text/plain": [
       "3"
      ]
     },
     "execution_count": 74,
     "metadata": {},
     "output_type": "execute_result"
    }
   ],
   "source": [
    "t[2]"
   ]
  },
  {
   "cell_type": "code",
   "execution_count": 75,
   "id": "5aa6c73b",
   "metadata": {},
   "outputs": [
    {
     "data": {
      "text/plain": [
       "(1, 2)"
      ]
     },
     "execution_count": 75,
     "metadata": {},
     "output_type": "execute_result"
    }
   ],
   "source": [
    "t[0:2]"
   ]
  },
  {
   "cell_type": "code",
   "execution_count": 76,
   "id": "2cec9495",
   "metadata": {},
   "outputs": [],
   "source": [
    " t = t + (2 ,)"
   ]
  },
  {
   "cell_type": "code",
   "execution_count": 77,
   "id": "6bec0a7e",
   "metadata": {},
   "outputs": [
    {
     "data": {
      "text/plain": [
       "(1, 2, 3, 2)"
      ]
     },
     "execution_count": 77,
     "metadata": {},
     "output_type": "execute_result"
    }
   ],
   "source": [
    "t"
   ]
  },
  {
   "cell_type": "code",
   "execution_count": 78,
   "id": "5b3f4c5f",
   "metadata": {},
   "outputs": [
    {
     "data": {
      "text/plain": [
       "(1, 2, 3)"
      ]
     },
     "execution_count": 78,
     "metadata": {},
     "output_type": "execute_result"
    }
   ],
   "source": [
    "tuple ([1 ,2 ,3])"
   ]
  },
  {
   "cell_type": "code",
   "execution_count": 79,
   "id": "ae35b482",
   "metadata": {},
   "outputs": [
    {
     "data": {
      "text/plain": [
       "('A', 'T', 'G', 'C', 'C', 'G', 'C', 'G', 'A', 'T', ' ')"
      ]
     },
     "execution_count": 79,
     "metadata": {},
     "output_type": "execute_result"
    }
   ],
   "source": [
    "tuple (\"ATGCCGCGAT \")"
   ]
  },
  {
   "cell_type": "markdown",
   "id": "d438c72e",
   "metadata": {},
   "source": [
    "# Les Chaines"
   ]
  },
  {
   "cell_type": "code",
   "execution_count": 66,
   "id": "d1788043",
   "metadata": {},
   "outputs": [],
   "source": [
    "st = \"langage python\""
   ]
  },
  {
   "cell_type": "code",
   "execution_count": 67,
   "id": "63ab5e9b",
   "metadata": {},
   "outputs": [
    {
     "name": "stdout",
     "output_type": "stream",
     "text": [
      "14\n"
     ]
    }
   ],
   "source": [
    "print(len(st))"
   ]
  },
  {
   "cell_type": "code",
   "execution_count": 68,
   "id": "c7665486",
   "metadata": {},
   "outputs": [
    {
     "data": {
      "text/plain": [
       "'langage R'"
      ]
     },
     "execution_count": 68,
     "metadata": {},
     "output_type": "execute_result"
    }
   ],
   "source": [
    "st.replace(\"python\",\"R\")"
   ]
  },
  {
   "cell_type": "code",
   "execution_count": 69,
   "id": "456a2c97",
   "metadata": {},
   "outputs": [
    {
     "name": "stdout",
     "output_type": "stream",
     "text": [
      "0\n"
     ]
    }
   ],
   "source": [
    "i = st.find(\"langage\") # on cherche  l'indice \"langage\" dans st\n",
    "print(i)"
   ]
  },
  {
   "cell_type": "code",
   "execution_count": 70,
   "id": "e18977ad",
   "metadata": {},
   "outputs": [],
   "source": [
    "s = \"salut, Je m'appelle Bob...\""
   ]
  },
  {
   "cell_type": "code",
   "execution_count": 71,
   "id": "f6914700",
   "metadata": {},
   "outputs": [
    {
     "name": "stdout",
     "output_type": "stream",
     "text": [
      "salut, je m'appelle bob...\n"
     ]
    }
   ],
   "source": [
    "print(s.lower())"
   ]
  },
  {
   "cell_type": "code",
   "execution_count": 72,
   "id": "fdac737c",
   "metadata": {},
   "outputs": [
    {
     "name": "stdout",
     "output_type": "stream",
     "text": [
      "SALUT, JE M'APPELLE BOB...\n"
     ]
    }
   ],
   "source": [
    "print(s.upper())"
   ]
  },
  {
   "cell_type": "code",
   "execution_count": 73,
   "id": "c132ba8f",
   "metadata": {},
   "outputs": [
    {
     "name": "stdout",
     "output_type": "stream",
     "text": [
      "Salut, je m'appelle bob...\n"
     ]
    }
   ],
   "source": [
    "print(s.capitalize())#la premiére lettre en maj"
   ]
  },
  {
   "cell_type": "code",
   "execution_count": 74,
   "id": "0494e87f",
   "metadata": {},
   "outputs": [
    {
     "name": "stdout",
     "output_type": "stream",
     "text": [
      "2\n"
     ]
    }
   ],
   "source": [
    "s = \"abracadabra\"\n",
    "print(s.count(\"bra\"))"
   ]
  },
  {
   "cell_type": "code",
   "execution_count": 75,
   "id": "6826ceee",
   "metadata": {},
   "outputs": [],
   "source": [
    "s = \"un;deux;trois\""
   ]
  },
  {
   "cell_type": "code",
   "execution_count": 76,
   "id": "74d9f7a0",
   "metadata": {},
   "outputs": [
    {
     "data": {
      "text/plain": [
       "['un', 'deux', 'trois']"
      ]
     },
     "execution_count": 76,
     "metadata": {},
     "output_type": "execute_result"
    }
   ],
   "source": [
    "s.split(\";\")"
   ]
  },
  {
   "cell_type": "code",
   "execution_count": 77,
   "id": "3e059519",
   "metadata": {},
   "outputs": [
    {
     "name": "stdout",
     "output_type": "stream",
     "text": [
      "['un', 'deux', 'trois']\n",
      "un;deux;trois\n"
     ]
    }
   ],
   "source": [
    "mot=s.split(\";\")\n",
    "print(mot)\n",
    "print(s)"
   ]
  },
  {
   "cell_type": "code",
   "execution_count": 78,
   "id": "dc676f62",
   "metadata": {},
   "outputs": [
    {
     "name": "stdout",
     "output_type": "stream",
     "text": [
      "un-deux-trois\n"
     ]
    }
   ],
   "source": [
    "s2 = \"-\".join(mot) # concaténation des éléments de mots séparés par \";\"\n",
    "print(s2) # affiche trois;deux;un"
   ]
  },
  {
   "cell_type": "code",
   "execution_count": 79,
   "id": "e45ea61c",
   "metadata": {},
   "outputs": [],
   "source": [
    "chaine = \" Bonjour monsieur le capitaine !\""
   ]
  },
  {
   "cell_type": "code",
   "execution_count": 80,
   "id": "5f367a59",
   "metadata": {},
   "outputs": [
    {
     "data": {
      "text/plain": [
       "True"
      ]
     },
     "execution_count": 80,
     "metadata": {},
     "output_type": "execute_result"
    }
   ],
   "source": [
    "chaine.startswith (\" Bonjour \")"
   ]
  },
  {
   "cell_type": "code",
   "execution_count": 81,
   "id": "3008b07c",
   "metadata": {},
   "outputs": [
    {
     "data": {
      "text/plain": [
       "True"
      ]
     },
     "execution_count": 81,
     "metadata": {},
     "output_type": "execute_result"
    }
   ],
   "source": [
    "chaine.endswith (\"ne !\")"
   ]
  },
  {
   "cell_type": "code",
   "execution_count": 82,
   "id": "8b26e51f",
   "metadata": {},
   "outputs": [
    {
     "data": {
      "text/plain": [
       "' Bonjour monsieur le capitaine !'"
      ]
     },
     "execution_count": 82,
     "metadata": {},
     "output_type": "execute_result"
    }
   ],
   "source": [
    "chaine[0].upper()+chaine[1:] #chaine.capitalize()"
   ]
  },
  {
   "cell_type": "code",
   "execution_count": 83,
   "id": "0f4663fb",
   "metadata": {},
   "outputs": [],
   "source": [
    "chaine =\"    Comment enlever les espaces au dé but et à la fin ?\""
   ]
  },
  {
   "cell_type": "code",
   "execution_count": 84,
   "id": "167e1ec4",
   "metadata": {},
   "outputs": [
    {
     "data": {
      "text/plain": [
       "'Comment enlever les espaces au dé but et à la fin ?'"
      ]
     },
     "execution_count": 84,
     "metadata": {},
     "output_type": "execute_result"
    }
   ],
   "source": [
    "chaine.strip()"
   ]
  },
  {
   "cell_type": "code",
   "execution_count": 85,
   "id": "42437066",
   "metadata": {},
   "outputs": [
    {
     "name": "stdout",
     "output_type": "stream",
     "text": [
      "True\n"
     ]
    }
   ],
   "source": [
    "print(\"abc\".isalpha())# voir aussi s.isdigit(), s.isalnum(), s.isnumeric()..."
   ]
  },
  {
   "cell_type": "code",
   "execution_count": 86,
   "id": "c480334a",
   "metadata": {},
   "outputs": [
    {
     "name": "stdout",
     "output_type": "stream",
     "text": [
      "Rentrez 5 nombres entiers, séparés par des espaces 1 2 3 4 5\n",
      "['1', '2', '3', '4', '5']\n"
     ]
    }
   ],
   "source": [
    "s = input(\"Rentrez 5 nombres entiers, séparés par des espaces \")\n",
    "t = s.split()\n",
    "print(t)"
   ]
  },
  {
   "cell_type": "markdown",
   "id": "dba3af64",
   "metadata": {},
   "source": [
    "2 dictionnaire "
   ]
  },
  {
   "cell_type": "code",
   "execution_count": 87,
   "id": "ece60065",
   "metadata": {},
   "outputs": [
    {
     "name": "stdout",
     "output_type": "stream",
     "text": [
      "{' nom ': ' girafe ', ' taille ': 5.0, ' poids ': 1100}\n"
     ]
    }
   ],
   "source": [
    "ani1 = {}\n",
    "ani1 [\" nom \"] = \" girafe \"\n",
    "ani1 [\" taille \"] = 5.0\n",
    "ani1 [\" poids \"] = 1100\n",
    "print(ani1)"
   ]
  },
  {
   "cell_type": "code",
   "execution_count": 45,
   "id": "b55eaa03",
   "metadata": {},
   "outputs": [],
   "source": [
    "dico={} # dictionnaire vide"
   ]
  },
  {
   "cell_type": "code",
   "execution_count": 46,
   "id": "076133df",
   "metadata": {},
   "outputs": [
    {
     "name": "stdout",
     "output_type": "stream",
     "text": [
      "{'computer': 'ordinateur', 'mouse': 'souris', 'keyboard': 'clavier'}\n"
     ]
    }
   ],
   "source": [
    "dico[\"computer\"] =\"ordinateur\"\n",
    "dico[\"mouse\"]=\"souris\"\n",
    "dico[\"keyboard\"] =\"clavier\"\n",
    "print(dico)\n"
   ]
  },
  {
   "cell_type": "code",
   "execution_count": 47,
   "id": "749c6089",
   "metadata": {},
   "outputs": [
    {
     "name": "stdout",
     "output_type": "stream",
     "text": [
      "dict_keys(['computer', 'mouse', 'keyboard'])\n"
     ]
    }
   ],
   "source": [
    " print(dico.keys())"
   ]
  },
  {
   "cell_type": "code",
   "execution_count": 48,
   "id": "48b3d49a",
   "metadata": {},
   "outputs": [
    {
     "name": "stdout",
     "output_type": "stream",
     "text": [
      "dict_values(['ordinateur', 'souris', 'clavier'])\n"
     ]
    }
   ],
   "source": [
    "print(dico.values())"
   ]
  },
  {
   "cell_type": "code",
   "execution_count": 49,
   "id": "535745dc",
   "metadata": {},
   "outputs": [],
   "source": [
    "del dico[\"mouse\"]\n"
   ]
  },
  {
   "cell_type": "code",
   "execution_count": 50,
   "id": "1ef96558",
   "metadata": {},
   "outputs": [
    {
     "name": "stdout",
     "output_type": "stream",
     "text": [
      "{'computer': 'ordinateur', 'keyboard': 'clavier'}\n"
     ]
    }
   ],
   "source": [
    "print(dico)"
   ]
  },
  {
   "cell_type": "code",
   "execution_count": 51,
   "id": "161e748c",
   "metadata": {},
   "outputs": [
    {
     "name": "stdout",
     "output_type": "stream",
     "text": [
      "2\n"
     ]
    }
   ],
   "source": [
    " print(len(dico))"
   ]
  },
  {
   "cell_type": "code",
   "execution_count": 56,
   "id": "e4857f03",
   "metadata": {},
   "outputs": [
    {
     "data": {
      "text/plain": [
       "True"
      ]
     },
     "execution_count": 56,
     "metadata": {},
     "output_type": "execute_result"
    }
   ],
   "source": [
    "dico.__contains__(\"computer\")"
   ]
  },
  {
   "cell_type": "code",
   "execution_count": 57,
   "id": "a94f1168",
   "metadata": {},
   "outputs": [
    {
     "name": "stdout",
     "output_type": "stream",
     "text": [
      "dict_items([('computer', 'ordinateur'), ('keyboard', 'clavier')])\n"
     ]
    }
   ],
   "source": [
    "print(dico.items())\n"
   ]
  },
  {
   "cell_type": "code",
   "execution_count": 58,
   "id": "833fc73a",
   "metadata": {},
   "outputs": [
    {
     "name": "stdout",
     "output_type": "stream",
     "text": [
      "computer\n",
      "keyboard\n"
     ]
    }
   ],
   "source": [
    "for clef in dico:\n",
    "    print(clef)"
   ]
  },
  {
   "cell_type": "code",
   "execution_count": 59,
   "id": "eb604025",
   "metadata": {},
   "outputs": [
    {
     "name": "stdout",
     "output_type": "stream",
     "text": [
      "computer ordinateur\n",
      "keyboard clavier\n"
     ]
    }
   ],
   "source": [
    "for clef in dico:\n",
    "   print (clef, dico[clef]) "
   ]
  },
  {
   "cell_type": "code",
   "execution_count": 60,
   "id": "d6351019",
   "metadata": {},
   "outputs": [
    {
     "name": "stdout",
     "output_type": "stream",
     "text": [
      "computer ordinateur\n",
      "keyboard clavier\n"
     ]
    }
   ],
   "source": [
    "for clef, value in dico.items():\n",
    "    print(clef, value)"
   ]
  },
  {
   "cell_type": "code",
   "execution_count": 61,
   "id": "4135c244",
   "metadata": {},
   "outputs": [],
   "source": [
    "dico2={\"ordinateur\":\"computer\", \"souris\" : \"mouse\"}"
   ]
  },
  {
   "cell_type": "code",
   "execution_count": 62,
   "id": "3836cd0d",
   "metadata": {},
   "outputs": [
    {
     "name": "stdout",
     "output_type": "stream",
     "text": [
      "{'ordinateur': 'computer', 'souris': 'mouse'}\n"
     ]
    }
   ],
   "source": [
    "print(dico2)"
   ]
  },
  {
   "cell_type": "code",
   "execution_count": 63,
   "id": "ed943c2d",
   "metadata": {},
   "outputs": [],
   "source": [
    "dico2=dico"
   ]
  },
  {
   "cell_type": "code",
   "execution_count": 64,
   "id": "1284f355",
   "metadata": {},
   "outputs": [
    {
     "name": "stdout",
     "output_type": "stream",
     "text": [
      "{'computer': 'ordinateur', 'keyboard': 'clavier'}\n"
     ]
    }
   ],
   "source": [
    "print(dico)\n"
   ]
  },
  {
   "cell_type": "code",
   "execution_count": 65,
   "id": "bbd991c6",
   "metadata": {},
   "outputs": [],
   "source": [
    "del dico2[\"computer\"]\n"
   ]
  },
  {
   "cell_type": "code",
   "execution_count": 66,
   "id": "81fa0168",
   "metadata": {},
   "outputs": [
    {
     "name": "stdout",
     "output_type": "stream",
     "text": [
      "{'keyboard': 'clavier'}\n"
     ]
    }
   ],
   "source": [
    "print(dico)"
   ]
  },
  {
   "cell_type": "code",
   "execution_count": 67,
   "id": "a7cdbc43",
   "metadata": {},
   "outputs": [
    {
     "name": "stdout",
     "output_type": "stream",
     "text": [
      "{'keyboard': 'clavier'}\n"
     ]
    }
   ],
   "source": [
    "print(dico2)\n"
   ]
  },
  {
   "cell_type": "code",
   "execution_count": 68,
   "id": "274f0a73",
   "metadata": {},
   "outputs": [],
   "source": [
    " dico3=dico.copy() # dico3 est une copie du dictionnaire reference par dico!"
   ]
  },
  {
   "cell_type": "code",
   "execution_count": 70,
   "id": "9a81edf8",
   "metadata": {},
   "outputs": [],
   "source": [
    "del dico3[\"keyboard\"]"
   ]
  },
  {
   "cell_type": "code",
   "execution_count": 71,
   "id": "410db0ed",
   "metadata": {},
   "outputs": [
    {
     "name": "stdout",
     "output_type": "stream",
     "text": [
      "{'keyboard': 'clavier'}\n"
     ]
    }
   ],
   "source": [
    " print(dico)\n"
   ]
  },
  {
   "cell_type": "code",
   "execution_count": 72,
   "id": "93f8263a",
   "metadata": {},
   "outputs": [
    {
     "name": "stdout",
     "output_type": "stream",
     "text": [
      "{}\n"
     ]
    }
   ],
   "source": [
    "print(dico3)\n"
   ]
  },
  {
   "cell_type": "markdown",
   "id": "ed8304e7",
   "metadata": {},
   "source": [
    "set :modifiables, non ordonnés, non indexables et de ne contenir qu’une seule copie maximum de chaque élément."
   ]
  },
  {
   "cell_type": "code",
   "execution_count": null,
   "id": "c2ea908a",
   "metadata": {},
   "outputs": [],
   "source": []
  },
  {
   "cell_type": "markdown",
   "id": "384ed304",
   "metadata": {},
   "source": [
    "pas de doublon"
   ]
  },
  {
   "cell_type": "code",
   "execution_count": 88,
   "id": "4714a034",
   "metadata": {},
   "outputs": [
    {
     "data": {
      "text/plain": [
       "{4, 5, 12}"
      ]
     },
     "execution_count": 88,
     "metadata": {},
     "output_type": "execute_result"
    }
   ],
   "source": [
    "s = {4, 5, 5, 12}\n",
    "s"
   ]
  },
  {
   "cell_type": "markdown",
   "id": "29898026",
   "metadata": {},
   "source": [
    "- non ordonnés"
   ]
  },
  {
   "cell_type": "code",
   "execution_count": 89,
   "id": "a3b58208",
   "metadata": {},
   "outputs": [
    {
     "data": {
      "text/plain": [
       "{' Plouf ', (1, 3), 3, 4}"
      ]
     },
     "execution_count": 89,
     "metadata": {},
     "output_type": "execute_result"
    }
   ],
   "source": [
    "s = {3, 4, \" Plouf \", (1, 3)}\n",
    "s"
   ]
  },
  {
   "cell_type": "markdown",
   "id": "d81d5bb5",
   "metadata": {},
   "source": [
    "La fonction interne à Python set() convertit un objet itérable passé en argument en un nouveau set (opération de casting) :"
   ]
  },
  {
   "cell_type": "code",
   "execution_count": 90,
   "id": "627fcb39",
   "metadata": {},
   "outputs": [
    {
     "name": "stdout",
     "output_type": "stream",
     "text": [
      "{1, 2, 4}\n",
      "{1, 2}\n",
      "{0, 1, 2, 3, 4}\n",
      "{' clé_1 ', 'clé_2 '}\n",
      "{'to', ' ti', 'to '}\n",
      "{'s', 'b', 'o', 'é', ' ', 'M', 'e', 't', 'n', 'î', 'p', 'u', 'h', 'a', 'r', 'c'}\n"
     ]
    }
   ],
   "source": [
    "print(set ([1 , 2, 4, 1]))\n",
    "print(set ((2 , 2, 2, 1)))\n",
    "print(set ( range (5)))\n",
    "print(set ({\" clé_1 \": 1, \"clé_2 \": 2}))\n",
    "print(set ([\" ti\", \"to\", \"to \"]))\n",
    "print(set (\" Maître corbeau sur un arbre perché\"))"
   ]
  },
  {
   "cell_type": "markdown",
   "id": "af9d4fdc",
   "metadata": {},
   "source": [
    "les sets ne sont pas ordonnés ni indexables, il est donc  impossible de récupérer un élémen par sa position. Il est également impossible de modifier un de ses éléments par l’indexation."
   ]
  },
  {
   "cell_type": "code",
   "execution_count": 91,
   "id": "429278f8",
   "metadata": {},
   "outputs": [
    {
     "ename": "TypeError",
     "evalue": "'set' object is not subscriptable",
     "output_type": "error",
     "traceback": [
      "\u001b[1;31m---------------------------------------------------------------------------\u001b[0m",
      "\u001b[1;31mTypeError\u001b[0m                                 Traceback (most recent call last)",
      "Input \u001b[1;32mIn [91]\u001b[0m, in \u001b[0;36m<cell line: 2>\u001b[1;34m()\u001b[0m\n\u001b[0;32m      1\u001b[0m s \u001b[38;5;241m=\u001b[39m \u001b[38;5;28mset\u001b[39m ([\u001b[38;5;241m1\u001b[39m , \u001b[38;5;241m2\u001b[39m, \u001b[38;5;241m4\u001b[39m, \u001b[38;5;241m1\u001b[39m])\n\u001b[1;32m----> 2\u001b[0m \u001b[43ms\u001b[49m\u001b[43m \u001b[49m\u001b[43m[\u001b[49m\u001b[38;5;241;43m1\u001b[39;49m\u001b[43m]\u001b[49m\n",
      "\u001b[1;31mTypeError\u001b[0m: 'set' object is not subscriptable"
     ]
    }
   ],
   "source": [
    "s = set ([1 , 2, 4, 1])\n",
    "s [1]"
   ]
  },
  {
   "cell_type": "markdown",
   "id": "549a81a1",
   "metadata": {},
   "source": [
    "Par contre, les sets sont itérables :"
   ]
  },
  {
   "cell_type": "code",
   "execution_count": 92,
   "id": "eff8d255",
   "metadata": {},
   "outputs": [
    {
     "name": "stdout",
     "output_type": "stream",
     "text": [
      "1\n",
      "2\n",
      "4\n"
     ]
    }
   ],
   "source": [
    "for element in s:\n",
    "    print ( element )"
   ]
  },
  {
   "cell_type": "markdown",
   "id": "986d512a",
   "metadata": {},
   "source": [
    "Les sets ne peuvent être modifiés que par des méthodes spécifiques."
   ]
  },
  {
   "cell_type": "code",
   "execution_count": 93,
   "id": "02e96e2a",
   "metadata": {},
   "outputs": [
    {
     "name": "stdout",
     "output_type": "stream",
     "text": [
      "{0, 1, 2, 3, 4}\n",
      "{0, 1, 2, 3, 4}\n",
      "{0, 1, 2, 3, 4, 472}\n",
      "{1, 2, 3, 4, 472}\n"
     ]
    }
   ],
   "source": [
    "s = set( range (5))\n",
    "print(s)\n",
    "s. add (4)\n",
    "print(s) \n",
    "s.add (472)\n",
    "print(s) \n",
    "s. discard (0)\n",
    "print(s) "
   ]
  },
  {
   "cell_type": "markdown",
   "id": "671dd29d",
   "metadata": {},
   "source": [
    "Les sets ne supportent pas les opérateurs + et *."
   ]
  },
  {
   "cell_type": "markdown",
   "id": "a9a48e44",
   "metadata": {},
   "source": [
    "- Utilité :"
   ]
  },
  {
   "cell_type": "markdown",
   "id": "3aac8708",
   "metadata": {},
   "source": [
    "Les containers de type set sont très utiles pour rechercher les éléments uniques d’une suite d’éléments. Cela revient à éliminer tous les doublons"
   ]
  },
  {
   "cell_type": "code",
   "execution_count": 94,
   "id": "b134f286",
   "metadata": {},
   "outputs": [
    {
     "name": "stdout",
     "output_type": "stream",
     "text": [
      "[1, 1, 7, 3, 3, 4, 4, 3, 2, 1]\n",
      "{1, 2, 3, 4, 7}\n"
     ]
    }
   ],
   "source": [
    "import random\n",
    "liste = [ random . randint (0, 9) for i in range (10)]\n",
    "print(liste)\n",
    "print(set( liste ))"
   ]
  },
  {
   "cell_type": "code",
   "execution_count": 95,
   "id": "ab50f74d",
   "metadata": {},
   "outputs": [
    {
     "data": {
      "text/plain": [
       "[3, 5, 6, 7, 8, 9]"
      ]
     },
     "execution_count": 95,
     "metadata": {},
     "output_type": "execute_result"
    }
   ],
   "source": [
    "list ( set ([7 , 9, 6, 6, 7, 3, 8, 5, 6, 7]))"
   ]
  },
  {
   "cell_type": "code",
   "execution_count": 96,
   "id": "afe9ff08",
   "metadata": {},
   "outputs": [
    {
     "data": {
      "text/plain": [
       "{'a', 'c', 'g', 't'}"
      ]
     },
     "execution_count": 96,
     "metadata": {},
     "output_type": "execute_result"
    }
   ],
   "source": [
    "seq1=\"atctcgatcgatcgcgctagctagctcgccatacgtacgactacgt\"\n",
    "set(seq1)"
   ]
  },
  {
   "cell_type": "markdown",
   "id": "9e0c500d",
   "metadata": {},
   "source": [
    "Les sets permettent aussi l’évaluation d’union ou d’intersection mathématiques en conjonction avec les opérateurs respectivement | et & :"
   ]
  },
  {
   "cell_type": "code",
   "execution_count": 97,
   "id": "b31f867e",
   "metadata": {},
   "outputs": [
    {
     "data": {
      "text/plain": [
       "{0, 1, 2, 3, 4, 5}"
      ]
     },
     "execution_count": 97,
     "metadata": {},
     "output_type": "execute_result"
    }
   ],
   "source": [
    "liste_1 = [3, 3, 5, 1, 3, 4, 1, 1, 4, 4]\n",
    "liste_2 = [3, 0, 5, 3, 3, 1, 1, 1, 2, 2]\n",
    "set ( liste_1 ) | set ( liste_2 )"
   ]
  },
  {
   "cell_type": "code",
   "execution_count": 98,
   "id": "f9d53821",
   "metadata": {},
   "outputs": [
    {
     "data": {
      "text/plain": [
       "{1, 3, 5}"
      ]
     },
     "execution_count": 98,
     "metadata": {},
     "output_type": "execute_result"
    }
   ],
   "source": [
    "set ( liste_1 ) & set ( liste_2 )"
   ]
  },
  {
   "cell_type": "markdown",
   "id": "83010c12",
   "metadata": {},
   "source": [
    "ou"
   ]
  },
  {
   "cell_type": "code",
   "execution_count": 99,
   "id": "b5f81d81",
   "metadata": {},
   "outputs": [
    {
     "data": {
      "text/plain": [
       "{0, 1, 2, 3, 4, 5}"
      ]
     },
     "execution_count": 99,
     "metadata": {},
     "output_type": "execute_result"
    }
   ],
   "source": [
    "s1 = {1, 3, 4, 5}\n",
    "s2 = {0, 1, 2, 3, 5}\n",
    "s1.union (s2)"
   ]
  },
  {
   "cell_type": "code",
   "execution_count": 100,
   "id": "798197df",
   "metadata": {},
   "outputs": [
    {
     "data": {
      "text/plain": [
       "{1, 3, 5}"
      ]
     },
     "execution_count": 100,
     "metadata": {},
     "output_type": "execute_result"
    }
   ],
   "source": [
    "s1. intersection (s2)"
   ]
  },
  {
   "cell_type": "markdown",
   "id": "b79495e9",
   "metadata": {},
   "source": [
    "L’instruction s1.difference(s2) renvoie sous la forme d’un nouveau set les éléments de s1 qui ne sont pas dans s2. Et vice-versa pour s2.difference(s1)"
   ]
  },
  {
   "cell_type": "code",
   "execution_count": 101,
   "id": "8424b2ed",
   "metadata": {},
   "outputs": [
    {
     "data": {
      "text/plain": [
       "{4}"
      ]
     },
     "execution_count": 101,
     "metadata": {},
     "output_type": "execute_result"
    }
   ],
   "source": [
    "s1. difference (s2) "
   ]
  },
  {
   "cell_type": "code",
   "execution_count": 102,
   "id": "8bd5800d",
   "metadata": {},
   "outputs": [
    {
     "data": {
      "text/plain": [
       "{0, 2}"
      ]
     },
     "execution_count": 102,
     "metadata": {},
     "output_type": "execute_result"
    }
   ],
   "source": [
    "s2. difference (s1)"
   ]
  },
  {
   "cell_type": "markdown",
   "id": "0fc95b9c",
   "metadata": {},
   "source": [
    "La méthode .issubset() indique si un set est inclus dans un autre set. La méthode isdisjoint() indique si un set est disjoint d’un autre set, c’est-à-dire, s’ils n’ont aucun élément en commun indiquant que leur intersection est nulle."
   ]
  },
  {
   "cell_type": "code",
   "execution_count": 103,
   "id": "1a6f1e39",
   "metadata": {},
   "outputs": [
    {
     "name": "stdout",
     "output_type": "stream",
     "text": [
      "{0, 1, 2, 3, 4, 5, 6, 7, 8, 9}\n",
      "{3, 4, 5, 6}\n",
      "{16, 15}\n"
     ]
    },
    {
     "data": {
      "text/plain": [
       "True"
      ]
     },
     "execution_count": 103,
     "metadata": {},
     "output_type": "execute_result"
    }
   ],
   "source": [
    "s1=set( range (10))\n",
    "s2=set( range (3, 7))\n",
    "s3=set( range (15 , 17))\n",
    "print(s1)\n",
    "print(s2)\n",
    "print(s3)\n",
    "s2. issubset (s1)"
   ]
  },
  {
   "cell_type": "code",
   "execution_count": 104,
   "id": "7400bb3f",
   "metadata": {},
   "outputs": [
    {
     "data": {
      "text/plain": [
       "True"
      ]
     },
     "execution_count": 104,
     "metadata": {},
     "output_type": "execute_result"
    }
   ],
   "source": [
    "s3. isdisjoint (s1)"
   ]
  },
  {
   "cell_type": "markdown",
   "id": "54e27d12",
   "metadata": {},
   "source": [
    "Frozensets"
   ]
  },
  {
   "cell_type": "markdown",
   "id": "91b6b065",
   "metadata": {},
   "source": [
    "Les frozensets sont des sets non modifiables. Ainsi, un set peut contenir des frozensets mais pas l’inverse. A quoi servent-ils ? Comme la différence entre tuple et liste, l’immutabilité des frozensets donne l’assurance de ne pas pouvoir les modifier par erreur. Pour créer un frozenset on utilise la fonction interne frozenset() qui prend en argument un objet itérable et le convertit (opération de casting) :"
   ]
  },
  {
   "cell_type": "code",
   "execution_count": 105,
   "id": "e4eedf09",
   "metadata": {},
   "outputs": [
    {
     "name": "stdout",
     "output_type": "stream",
     "text": [
      "frozenset({1, 3, 4, 5})\n",
      "frozenset({0, 1, 2, 3, 5})\n"
     ]
    }
   ],
   "source": [
    "f1 = frozenset ([3 , 3, 5, 1, 3, 4, 1, 1, 4, 4])\n",
    "f2 = frozenset ([3 , 0, 5, 3, 3, 1, 1, 1, 2, 2])\n",
    "print(f1)\n",
    "print(f2)"
   ]
  },
  {
   "cell_type": "markdown",
   "id": "4727d90a",
   "metadata": {},
   "source": [
    "Les frozensets ne possèdent bien sûr pas les méthodes de modification des sets (.add(), .discard(), etc.) puisqu’ils sont non modifiables. Par contre, ils possèdent toutes les méthodes de comparaisons de sets (.union(), .intersection(), etc.)."
   ]
  },
  {
   "cell_type": "code",
   "execution_count": 106,
   "id": "0ccdc189",
   "metadata": {},
   "outputs": [
    {
     "ename": "AttributeError",
     "evalue": "'frozenset' object has no attribute 'add'",
     "output_type": "error",
     "traceback": [
      "\u001b[1;31m---------------------------------------------------------------------------\u001b[0m",
      "\u001b[1;31mAttributeError\u001b[0m                            Traceback (most recent call last)",
      "Input \u001b[1;32mIn [106]\u001b[0m, in \u001b[0;36m<cell line: 1>\u001b[1;34m()\u001b[0m\n\u001b[1;32m----> 1\u001b[0m \u001b[43mf1\u001b[49m\u001b[38;5;241;43m.\u001b[39;49m\u001b[43madd\u001b[49m (\u001b[38;5;241m5\u001b[39m)\n",
      "\u001b[1;31mAttributeError\u001b[0m: 'frozenset' object has no attribute 'add'"
     ]
    }
   ],
   "source": [
    "f1.add (5)"
   ]
  },
  {
   "cell_type": "code",
   "execution_count": 107,
   "id": "d0aa9db3",
   "metadata": {},
   "outputs": [
    {
     "data": {
      "text/plain": [
       "frozenset({0, 1, 2, 3, 4, 5})"
      ]
     },
     "execution_count": 107,
     "metadata": {},
     "output_type": "execute_result"
    }
   ],
   "source": [
    "f1. union (f2)"
   ]
  },
  {
   "cell_type": "code",
   "execution_count": 108,
   "id": "9ca997ac",
   "metadata": {},
   "outputs": [
    {
     "data": {
      "text/plain": [
       "frozenset({1, 3, 5})"
      ]
     },
     "execution_count": 108,
     "metadata": {},
     "output_type": "execute_result"
    }
   ],
   "source": [
    "f1. intersection (f2)\n"
   ]
  },
  {
   "cell_type": "markdown",
   "id": "d20dda80",
   "metadata": {},
   "source": [
    "2.\tTableau a une dimenssion"
   ]
  },
  {
   "cell_type": "code",
   "execution_count": null,
   "id": "47f21b1e",
   "metadata": {},
   "outputs": [],
   "source": []
  },
  {
   "cell_type": "code",
   "execution_count": 136,
   "id": "507bf980",
   "metadata": {},
   "outputs": [
    {
     "name": "stdout",
     "output_type": "stream",
     "text": [
      "entrer la tailledu tableau\n",
      "3\n",
      "entre une valeur \n",
      "1\n",
      "entre une valeur \n",
      "2\n",
      "entre une valeur \n",
      "3\n",
      "[1, 2, 3]\n"
     ]
    }
   ],
   "source": [
    "taille=int(input(\"entrer la tailledu tableau\\n\"))\n",
    "T1=[]\n",
    "for i in range(taille):\n",
    "    a=int(input(\"entre une valeur \\n\"))\n",
    "    T1.append(a)\n",
    "print(T1)"
   ]
  },
  {
   "cell_type": "code",
   "execution_count": 137,
   "id": "4f1276a8",
   "metadata": {},
   "outputs": [
    {
     "name": "stdout",
     "output_type": "stream",
     "text": [
      "entrer la tailledu tableau\n",
      "3\n",
      "entre une valeur \n",
      "1\n",
      "entre une valeur \n",
      "2\n",
      "entre une valeur \n",
      "3\n",
      "[1, 2, 3]\n"
     ]
    }
   ],
   "source": [
    "taille=int(input(\"entrer la tailledu tableau\\n\"))\n",
    "T1=[None]*taille\n",
    "for i in range(taille):\n",
    "    T1[i]=int(input(\"entre une valeur \\n\"))\n",
    "print(T1)\n"
   ]
  },
  {
   "cell_type": "markdown",
   "id": "739fc1e2",
   "metadata": {},
   "source": [
    "3.\tTableau deux dimension\n",
    "Saisi et affichage\n"
   ]
  },
  {
   "cell_type": "code",
   "execution_count": 138,
   "id": "9ae3647c",
   "metadata": {},
   "outputs": [
    {
     "name": "stdout",
     "output_type": "stream",
     "text": [
      "N[ 0 ][ 0 ]= 1\n",
      "N[ 0 ][ 1 ]= 2\n",
      "N[ 0 ][ 2 ]= 3\n",
      "N[ 1 ][ 0 ]= 4\n",
      "N[ 1 ][ 1 ]= 5\n",
      "N[ 1 ][ 2 ]= 6\n",
      "[[1, 2, 3], [4, 5, 6]]\n"
     ]
    }
   ],
   "source": [
    "N=[]\n",
    "for i  in range(2):\n",
    "    ligne=[]\n",
    "    for j in range(3):\n",
    "        print('N[',i,'][',j,']=',end=\" \")\n",
    "        ligne.append(int(input()))\n",
    "    N.append(ligne)\n",
    "print(N)\n"
   ]
  },
  {
   "cell_type": "code",
   "execution_count": null,
   "id": "dc6a8e92",
   "metadata": {},
   "outputs": [],
   "source": []
  }
 ],
 "metadata": {
  "kernelspec": {
   "display_name": "Python 3 (ipykernel)",
   "language": "python",
   "name": "python3"
  },
  "language_info": {
   "codemirror_mode": {
    "name": "ipython",
    "version": 3
   },
   "file_extension": ".py",
   "mimetype": "text/x-python",
   "name": "python",
   "nbconvert_exporter": "python",
   "pygments_lexer": "ipython3",
   "version": "3.9.12"
  }
 },
 "nbformat": 4,
 "nbformat_minor": 5
}
